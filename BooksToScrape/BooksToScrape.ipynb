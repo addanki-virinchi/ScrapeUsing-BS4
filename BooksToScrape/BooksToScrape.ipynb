{
 "cells": [
  {
   "cell_type": "code",
   "execution_count": 1,
   "id": "4515e120",
   "metadata": {},
   "outputs": [],
   "source": [
    "import requests\n",
    "from bs4 import BeautifulSoup\n"
   ]
  },
  {
   "cell_type": "code",
   "execution_count": 2,
   "id": "7fb317cd",
   "metadata": {},
   "outputs": [
    {
     "name": "stdout",
     "output_type": "stream",
     "text": [
      "[['A Light in the Attic', 'Three', 51.77], ['Tipping the Velvet', 'One', 53.74], ['Soumission', 'One', 50.1], ['Sharp Objects', 'Four', 47.82], ['Sapiens: A Brief History of Humankind', 'Five', 54.23], ['The Requiem Red', 'One', 22.65], ['The Dirty Little Secrets of Getting Your Dream Job', 'Four', 33.34], ['The Coming Woman: A Novel Based on the Life of the Infamous Feminist, Victoria Woodhull', 'Three', 17.93], ['The Boys in the Boat: Nine Americans and Their Epic Quest for Gold at the 1936 Berlin Olympics', 'Four', 22.6], ['The Black Maria', 'One', 52.15], ['Starving Hearts (Triangular Trade Trilogy, #1)', 'Two', 13.99], [\"Shakespeare's Sonnets\", 'Four', 20.66], ['Set Me Free', 'Five', 17.46], [\"Scott Pilgrim's Precious Little Life (Scott Pilgrim #1)\", 'Five', 52.29], ['Rip it Up and Start Again', 'Five', 35.02], ['Our Band Could Be Your Life: Scenes from the American Indie Underground, 1981-1991', 'Three', 57.25], ['Olio', 'One', 23.88], ['Mesaerion: The Best Science Fiction Stories 1800-1849', 'One', 37.59], ['Libertarianism for Beginners', 'Two', 51.33], [\"It's Only the Himalayas\", 'Two', 45.17]]\n"
     ]
    }
   ],
   "source": [
    "url = f\"https://books.toscrape.com/catalogue/page-1.html\"\n",
    "headers = {\n",
    "        \"User-Agent\": \"Mozilla/5.0 (Windows NT 10.0; Win64; x64) AppleWebKit/537.36 (KHTML, like Gecko) Chrome/58.0.3029.110 Safari/537.3\"\n",
    "    }\n",
    "page = requests.get(url, headers=headers)\n",
    "soup = BeautifulSoup(page.content, 'html.parser')\n",
    "ol = soup.find('ol')\n",
    "\n",
    "if ol is not None:\n",
    "    articles = ol.find_all('article', class_=\"product_pod\")\n",
    "    books = []\n",
    "\n",
    "    for article in articles:\n",
    "            image = article.find('img')\n",
    "            title = image.attrs['alt']\n",
    "            star = article.find('p')['class'][1]\n",
    "            price = article.find('p', class_='price_color').text\n",
    "            price = float(price[1:])\n",
    "            books.append([title, star, price])\n",
    "print(books)"
   ]
  },
  {
   "cell_type": "code",
   "execution_count": 3,
   "id": "7461dccd",
   "metadata": {},
   "outputs": [
    {
     "name": "stdout",
     "output_type": "stream",
     "text": [
      "['A Light in the Attic', 'Three', 51.77]\n",
      "['Tipping the Velvet', 'One', 53.74]\n",
      "['Soumission', 'One', 50.1]\n",
      "['Sharp Objects', 'Four', 47.82]\n",
      "['Sapiens: A Brief History of Humankind', 'Five', 54.23]\n",
      "['The Requiem Red', 'One', 22.65]\n",
      "['The Dirty Little Secrets of Getting Your Dream Job', 'Four', 33.34]\n",
      "['The Coming Woman: A Novel Based on the Life of the Infamous Feminist, Victoria Woodhull', 'Three', 17.93]\n",
      "['The Boys in the Boat: Nine Americans and Their Epic Quest for Gold at the 1936 Berlin Olympics', 'Four', 22.6]\n",
      "['The Black Maria', 'One', 52.15]\n",
      "['Starving Hearts (Triangular Trade Trilogy, #1)', 'Two', 13.99]\n",
      "[\"Shakespeare's Sonnets\", 'Four', 20.66]\n",
      "['Set Me Free', 'Five', 17.46]\n",
      "[\"Scott Pilgrim's Precious Little Life (Scott Pilgrim #1)\", 'Five', 52.29]\n",
      "['Rip it Up and Start Again', 'Five', 35.02]\n",
      "['Our Band Could Be Your Life: Scenes from the American Indie Underground, 1981-1991', 'Three', 57.25]\n",
      "['Olio', 'One', 23.88]\n",
      "['Mesaerion: The Best Science Fiction Stories 1800-1849', 'One', 37.59]\n",
      "['Libertarianism for Beginners', 'Two', 51.33]\n",
      "[\"It's Only the Himalayas\", 'Two', 45.17]\n"
     ]
    }
   ],
   "source": [
    "for book in books:\n",
    "  print(book)"
   ]
  },
  {
   "cell_type": "code",
   "execution_count": 4,
   "id": "459a5b67",
   "metadata": {},
   "outputs": [],
   "source": [
    "import pandas as pd\n",
    "df = pd.DataFrame(books,columns=['Title','StarRating','Price'])\n",
    "df.to_csv(\"Books.csv\")"
   ]
  },
  {
   "cell_type": "code",
   "execution_count": null,
   "id": "17951492",
   "metadata": {},
   "outputs": [],
   "source": []
  }
 ],
 "metadata": {
  "kernelspec": {
   "display_name": "Python 3 (ipykernel)",
   "language": "python",
   "name": "python3"
  },
  "language_info": {
   "codemirror_mode": {
    "name": "ipython",
    "version": 3
   },
   "file_extension": ".py",
   "mimetype": "text/x-python",
   "name": "python",
   "nbconvert_exporter": "python",
   "pygments_lexer": "ipython3",
   "version": "3.9.13"
  }
 },
 "nbformat": 4,
 "nbformat_minor": 5
}
